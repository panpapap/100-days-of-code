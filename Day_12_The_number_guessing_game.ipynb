{
  "nbformat": 4,
  "nbformat_minor": 0,
  "metadata": {
    "colab": {
      "name": "Day 12 - The number guessing game.ipynb",
      "provenance": [],
      "authorship_tag": "ABX9TyOc1gEhxtjnqKw8dFsyygr+",
      "include_colab_link": true
    },
    "kernelspec": {
      "name": "python3",
      "display_name": "Python 3"
    },
    "language_info": {
      "name": "python"
    }
  },
  "cells": [
    {
      "cell_type": "markdown",
      "metadata": {
        "id": "view-in-github",
        "colab_type": "text"
      },
      "source": [
        "<a href=\"https://colab.research.google.com/github/panpapap/100-days-of-code/blob/main/Day_12_The_number_guessing_game.ipynb\" target=\"_parent\"><img src=\"https://colab.research.google.com/assets/colab-badge.svg\" alt=\"Open In Colab\"/></a>"
      ]
    },
    {
      "cell_type": "code",
      "execution_count": 1,
      "metadata": {
        "id": "KGM6LKunoqqh"
      },
      "outputs": [],
      "source": [
        "logo = \"\"\"\n",
        " /$$   /$$                         /$$                                       \n",
        "| $$$ | $$                        | $$                                       \n",
        "| $$$$| $$ /$$   /$$ /$$$$$$/$$$$ | $$$$$$$   /$$$$$$   /$$$$$$              \n",
        "| $$ $$ $$| $$  | $$| $$_  $$_  $$| $$__  $$ /$$__  $$ /$$__  $$             \n",
        "| $$  $$$$| $$  | $$| $$ \\ $$ \\ $$| $$  \\ $$| $$$$$$$$| $$  \\__/             \n",
        "| $$\\  $$$| $$  | $$| $$ | $$ | $$| $$  | $$| $$_____/| $$                   \n",
        "| $$ \\  $$|  $$$$$$/| $$ | $$ | $$| $$$$$$$/|  $$$$$$$| $$                   \n",
        "|__/  \\__/ \\______/ |__/ |__/ |__/|_______/  \\_______/|__/                   \n",
        "  /$$$$$$                                         /$$                     /$$\n",
        " /$$__  $$                                       |__/                    | $$\n",
        "| $$  \\__/ /$$   /$$  /$$$$$$   /$$$$$$$ /$$$$$$$ /$$ /$$$$$$$   /$$$$$$ | $$\n",
        "| $$ /$$$$| $$  | $$ /$$__  $$ /$$_____//$$_____/| $$| $$__  $$ /$$__  $$| $$\n",
        "| $$|_  $$| $$  | $$| $$$$$$$$|  $$$$$$|  $$$$$$ | $$| $$  \\ $$| $$  \\ $$|__/\n",
        "| $$  \\ $$| $$  | $$| $$_____/ \\____  $$\\____  $$| $$| $$  | $$| $$  | $$    \n",
        "|  $$$$$$/|  $$$$$$/|  $$$$$$$ /$$$$$$$//$$$$$$$/| $$| $$  | $$|  $$$$$$$ /$$\n",
        " \\______/  \\______/  \\_______/|_______/|_______/ |__/|__/  |__/ \\____  $$|__/\n",
        "                                                                /$$  \\ $$    \n",
        "                                                               |  $$$$$$/    \n",
        "                                                                \\______/     \n",
        "\"\"\""
      ]
    },
    {
      "cell_type": "code",
      "source": [
        "#Number Guessing Game Objectives:\n",
        "# Allow the player to submit a guess for a number between 1 and 100.\n",
        "# Check user's guess against actual answer. Print \"Too high.\" or \"Too low.\" depending on the user's answer. \n",
        "# If they got the answer correct, show the actual answer to the player.\n",
        "# Track the number of turns remaining.\n",
        "# If they run out of turns, provide feedback to the player. \n",
        "# Include two different difficulty levels (e.g., 10 guesses in easy mode, only 5 guesses in hard mode).\n"
      ],
      "metadata": {
        "id": "hY8yOpDApB6A"
      },
      "execution_count": 2,
      "outputs": []
    },
    {
      "cell_type": "code",
      "source": [
        "import random\n",
        "# http://patorjk.com/software/taag/#p=display&h=2&v=1&f=Big%20Money-ne&t=Number%20%0AGuessing!\n",
        "print(logo)"
      ],
      "metadata": {
        "colab": {
          "base_uri": "https://localhost:8080/"
        },
        "id": "Lcqmx_jDrMex",
        "outputId": "e2162171-fec8-441b-fb39-80071a20a120"
      },
      "execution_count": 3,
      "outputs": [
        {
          "output_type": "stream",
          "name": "stdout",
          "text": [
            "\n",
            " /$$   /$$                         /$$                                       \n",
            "| $$$ | $$                        | $$                                       \n",
            "| $$$$| $$ /$$   /$$ /$$$$$$/$$$$ | $$$$$$$   /$$$$$$   /$$$$$$              \n",
            "| $$ $$ $$| $$  | $$| $$_  $$_  $$| $$__  $$ /$$__  $$ /$$__  $$             \n",
            "| $$  $$$$| $$  | $$| $$ \\ $$ \\ $$| $$  \\ $$| $$$$$$$$| $$  \\__/             \n",
            "| $$\\  $$$| $$  | $$| $$ | $$ | $$| $$  | $$| $$_____/| $$                   \n",
            "| $$ \\  $$|  $$$$$$/| $$ | $$ | $$| $$$$$$$/|  $$$$$$$| $$                   \n",
            "|__/  \\__/ \\______/ |__/ |__/ |__/|_______/  \\_______/|__/                   \n",
            "  /$$$$$$                                         /$$                     /$$\n",
            " /$$__  $$                                       |__/                    | $$\n",
            "| $$  \\__/ /$$   /$$  /$$$$$$   /$$$$$$$ /$$$$$$$ /$$ /$$$$$$$   /$$$$$$ | $$\n",
            "| $$ /$$$$| $$  | $$ /$$__  $$ /$$_____//$$_____/| $$| $$__  $$ /$$__  $$| $$\n",
            "| $$|_  $$| $$  | $$| $$$$$$$$|  $$$$$$|  $$$$$$ | $$| $$  \\ $$| $$  \\ $$|__/\n",
            "| $$  \\ $$| $$  | $$| $$_____/ \\____  $$\\____  $$| $$| $$  | $$| $$  | $$    \n",
            "|  $$$$$$/|  $$$$$$/|  $$$$$$$ /$$$$$$$//$$$$$$$/| $$| $$  | $$|  $$$$$$$ /$$\n",
            " \\______/  \\______/  \\_______/|_______/|_______/ |__/|__/  |__/ \\____  $$|__/\n",
            "                                                                /$$  \\ $$    \n",
            "                                                               |  $$$$$$/    \n",
            "                                                                \\______/     \n",
            "\n"
          ]
        }
      ]
    },
    {
      "cell_type": "code",
      "source": [
        "#Game function\n",
        "def guess_game(number_of_attempts):\n",
        "  while number_of_attempts > 0:\n",
        "    print(f\"You have {number_of_attempts} attempt(s) remaining to guess the number.\")\n",
        "    guess_num = int(input(\"Make a guess: \"))\n",
        "    if guess_num == num:\n",
        "      print(f\"You're correct. The number that I am thinking of is {num}.\")\n",
        "      number_of_attempts = 1\n",
        "    elif guess_num > num:\n",
        "      print(\"Too high.\")\n",
        "    elif guess_num < num:\n",
        "      print(\"Too low.\")\n",
        "    number_of_attempts -= 1\n",
        "    if number_of_attempts > 0:\n",
        "      print(\"Guess again.\")\n",
        "  if number_of_attempts == 0:\n",
        "    print(\"You have 0 attempt left. You lose.\")   \n",
        "    print(f\"The number that I am thinking of is {num}.\")\n"
      ],
      "metadata": {
        "id": "C_F51I3srcak"
      },
      "execution_count": 19,
      "outputs": []
    },
    {
      "cell_type": "code",
      "source": [
        "#The opening\n",
        "num = random.randint(1,100)\n",
        "print(\"Welcome to the number guessing game!\")\n",
        "print(\"I'm thinking of a number between 1 and 100.\")\n",
        "print(f\"The chosen number is {num}\") #Will be deleted later\n",
        "\n",
        "\n",
        "hard = 5\n",
        "easy = 10\n",
        "#Ask the player to choose a level of difficulty\n",
        "difficulty = input(\"Choose your difficulty level. Type 'hard' or 'easy'.\").lower()\n",
        "if difficulty == \"hard\":\n",
        "  guess_game(hard)\n",
        "else:\n",
        "  guess_game(easy)\n"
      ],
      "metadata": {
        "colab": {
          "base_uri": "https://localhost:8080/"
        },
        "id": "kVJ-NJgjp6Au",
        "outputId": "e99bd0ed-fdb0-453c-eaf2-d4f43d776eb5"
      },
      "execution_count": 20,
      "outputs": [
        {
          "output_type": "stream",
          "name": "stdout",
          "text": [
            "Welcome to the number guessing game!\n",
            "I'm thinking of a number between 1 and 100.\n",
            "The chosen number is 26\n",
            "Choose your difficulty level. Type 'hard' or 'easy'.hard\n",
            "You have 5 attempt(s) remaining to guess the number.\n",
            "Make a guess: 90\n",
            "Too high.\n",
            "Guess again.\n",
            "You have 4 attempt(s) remaining to guess the number.\n",
            "Make a guess: 50\n",
            "Too high.\n",
            "Guess again.\n",
            "You have 3 attempt(s) remaining to guess the number.\n",
            "Make a guess: 30\n",
            "Too high.\n",
            "Guess again.\n",
            "You have 2 attempt(s) remaining to guess the number.\n",
            "Make a guess: 20\n",
            "Too low.\n",
            "Guess again.\n",
            "You have 1 attempt(s) remaining to guess the number.\n",
            "Make a guess: 10\n",
            "Too low.\n",
            "You have 0 attempt left. You lose.\n",
            "The number that I am thinking of is 26.\n"
          ]
        }
      ]
    }
  ]
}