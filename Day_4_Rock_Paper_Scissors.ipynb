{
  "nbformat": 4,
  "nbformat_minor": 0,
  "metadata": {
    "colab": {
      "name": "Day 4 - Rock Paper Scissors.ipynb",
      "provenance": [],
      "authorship_tag": "ABX9TyMlFpjUMKbwAkmSAXORTXUL",
      "include_colab_link": true
    },
    "kernelspec": {
      "name": "python3",
      "display_name": "Python 3"
    },
    "language_info": {
      "name": "python"
    }
  },
  "cells": [
    {
      "cell_type": "markdown",
      "metadata": {
        "id": "view-in-github",
        "colab_type": "text"
      },
      "source": [
        "<a href=\"https://colab.research.google.com/github/panpapap/100-days-of-code/blob/main/Day_4_Rock_Paper_Scissors.ipynb\" target=\"_parent\"><img src=\"https://colab.research.google.com/assets/colab-badge.svg\" alt=\"Open In Colab\"/></a>"
      ]
    },
    {
      "cell_type": "code",
      "execution_count": 8,
      "metadata": {
        "colab": {
          "base_uri": "https://localhost:8080/"
        },
        "id": "MRWwlvPkFjcz",
        "outputId": "ee2d4384-4639-4dbb-d48f-109486ad4be3"
      },
      "outputs": [
        {
          "output_type": "stream",
          "name": "stdout",
          "text": [
            "Welcome to the Rock Paper Scissors Championship \n",
            "Your rival is... the Computer!\n",
            "Now show us your choice! Type 1 for \"Rock\", 2 for \"Paper\" or 3 for \"Scissors\"?2\n",
            "\n",
            "    _______\n",
            "---'   ____)____\n",
            "          ______)\n",
            "          _______)\n",
            "         _______)\n",
            "---.__________)\n",
            "\n",
            "Computer chose:\n",
            "\n",
            "    _______\n",
            "---'   ____)____\n",
            "          ______)\n",
            "          _______)\n",
            "         _______)\n",
            "---.__________)\n",
            "\n",
            "And the winner is...\n",
            "It's a tight!.\n"
          ]
        }
      ],
      "source": [
        "import random\n",
        "\n",
        "rock = '''\n",
        "    _______\n",
        "---'   ____)\n",
        "      (_____)\n",
        "      (_____)\n",
        "      (____)\n",
        "---.__(___)\n",
        "'''\n",
        "\n",
        "paper = '''\n",
        "    _______\n",
        "---'   ____)____\n",
        "          ______)\n",
        "          _______)\n",
        "         _______)\n",
        "---.__________)\n",
        "'''\n",
        "\n",
        "scissors = '''\n",
        "    _______\n",
        "---'   ____)____\n",
        "          ______)\n",
        "       __________)\n",
        "      (____)\n",
        "---.__(___)\n",
        "'''\n",
        "game_images = [rock, paper, scissors]\n",
        "\n",
        "\n",
        "print(\"Welcome to the Rock Paper Scissors Championship \\nYour rival is... the Computer!\")\n",
        "choice = int(input('Now show us your choice! Type 1 for \"Rock\", 2 for \"Paper\" or 3 for \"Scissors\"?'))\n",
        "if choice >= 3 or choice < 0: \n",
        "    print(\"You typed an invalid number, you lose!\") \n",
        "else:\n",
        "    print(game_images[choice-1])\n",
        "\n",
        "\n",
        "\n",
        "#It is time for the computer to make its decision\n",
        "computer = random.randint(1,3)\n",
        "print(\"Computer chose:\")\n",
        "print(game_images[computer-1])\n",
        "\n",
        "#How we will determine the winner\n",
        "print(\"And the winner is...\")\n",
        "if choice == computer:\n",
        "  print(\"It's a tight!.\")\n",
        "elif choice - 1 == computer:\n",
        "  print(\"You win!\")\n",
        "else:\n",
        "  print(\"You loose :(\")\n",
        "\n"
      ]
    }
  ]
}