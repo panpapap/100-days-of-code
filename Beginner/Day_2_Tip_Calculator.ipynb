{
  "nbformat": 4,
  "nbformat_minor": 0,
  "metadata": {
    "colab": {
      "name": "Day 2 - Tip Calculator.ipynb",
      "provenance": [],
      "authorship_tag": "ABX9TyNAu0eBmI8uZgQoJUAWiMlX",
      "include_colab_link": true
    },
    "kernelspec": {
      "name": "python3",
      "display_name": "Python 3"
    },
    "language_info": {
      "name": "python"
    }
  },
  "cells": [
    {
      "cell_type": "markdown",
      "metadata": {
        "id": "view-in-github",
        "colab_type": "text"
      },
      "source": [
        "<a href=\"https://colab.research.google.com/github/panpapap/100-days-of-code/blob/main/Day_2_Tip_Calculator.ipynb\" target=\"_parent\"><img src=\"https://colab.research.google.com/assets/colab-badge.svg\" alt=\"Open In Colab\"/></a>"
      ]
    },
    {
      "cell_type": "markdown",
      "source": [
        "#Tip Calculator\n",
        "\n",
        "##Instructions\n",
        "If the bill was $150.00, split between 5 people, with 12% tip.\n",
        "\n",
        "Each person should pay (150.00 / 5) * 1.12 = 33.6\n",
        "\n",
        "Format the result to 2 decimal places = 33.60\n",
        "\n",
        "Thus everyone's share of the total bill is $30.00 plus a $3.60 tip.\n",
        "\n",
        "Tip: There are 2 ways to round a number. You might have to do some Googling to solve this.💪"
      ],
      "metadata": {
        "id": "gZf6xH3rgL1X"
      }
    },
    {
      "cell_type": "markdown",
      "source": [
        "Welcome to the tip calculator!\n",
        "What was the total bill? $124.56\n",
        "How much tip would you like to give? 10, 12, or 15? 12\n",
        "How many people to split the bill? 7\n",
        "\n",
        "Each person should pay: $19.93\n"
      ],
      "metadata": {
        "id": "4M2G16aUhbTH"
      }
    },
    {
      "cell_type": "code",
      "source": [
        "#Welcome to the program\n",
        "print('Welcome to the tip calculator!')\n",
        "#Ask the total bill\n",
        "total_bill = float(input (\"What was the total bill? $\"))\n",
        "#Ask the amount of tip\n",
        "tips_amount = int(input('How much tips would you like to give? 10, 12 or 15?'))\n",
        "#Ask the number of people\n",
        "num_people = int(input('How many people to split the bill?'))\n",
        "\n",
        "#Show the amount each person should pay\n",
        "total_tips = total_bill* tips_amount/100\n",
        "\n",
        "tips_each = \"{:.2f}\".format(round (total_tips / num_people_int, 2))\n",
        "\n",
        "print(f'Each person should pay: ${tips_each}')"
      ],
      "metadata": {
        "colab": {
          "base_uri": "https://localhost:8080/"
        },
        "id": "nW5Vpj9GhfG2",
        "outputId": "7b6a9bfa-e218-4a12-cb1d-c123c63e30d5"
      },
      "execution_count": 9,
      "outputs": [
        {
          "output_type": "stream",
          "name": "stdout",
          "text": [
            "Welcome to the tip calculator!\n",
            "What was the total bill? $90\n",
            "How much tips would you like to give? 10, 12 or 15?12\n",
            "How many people to split the bill?3\n",
            "Each person should pay: $2.70\n"
          ]
        }
      ]
    }
  ]
}
