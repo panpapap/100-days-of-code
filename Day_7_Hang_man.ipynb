{
  "nbformat": 4,
  "nbformat_minor": 0,
  "metadata": {
    "colab": {
      "name": "Day 7 - Hang man.ipynb",
      "provenance": [],
      "authorship_tag": "ABX9TyNv3dLSDzawdldrgqo8vkw9",
      "include_colab_link": true
    },
    "kernelspec": {
      "name": "python3",
      "display_name": "Python 3"
    },
    "language_info": {
      "name": "python"
    }
  },
  "cells": [
    {
      "cell_type": "markdown",
      "metadata": {
        "id": "view-in-github",
        "colab_type": "text"
      },
      "source": [
        "<a href=\"https://colab.research.google.com/github/panpapap/100-days-of-code/blob/main/Day_7_Hang_man.ipynb\" target=\"_parent\"><img src=\"https://colab.research.google.com/assets/colab-badge.svg\" alt=\"Open In Colab\"/></a>"
      ]
    },
    {
      "cell_type": "code",
      "execution_count": 4,
      "metadata": {
        "id": "5Jp-wQ9RSz8G",
        "outputId": "3d6e76c7-3ede-496c-beb5-6369e18e03a9",
        "colab": {
          "base_uri": "https://localhost:8080/"
        }
      },
      "outputs": [
        {
          "output_type": "stream",
          "name": "stdout",
          "text": [
            "Guess a letter:A\n",
            "Right\n",
            "Right\n",
            "Wrong\n",
            "Wrong\n",
            "Wrong\n",
            "Right\n",
            "Wrong\n",
            "Wrong\n",
            "Wrong\n"
          ]
        }
      ],
      "source": [
        "import random\n",
        "#Step 1 \n",
        "\n",
        "word_list = [\"aardvark\", \"baboon\", \"camel\"]\n",
        "\n",
        "#TODO-1 - Randomly choose a word from the word_list and assign it to a variable called chosen_word.\n",
        "chosen_word = random.choice(word_list)\n",
        "\n",
        "#TODO-2 - Ask the user to guess a letter and assign their answer to a variable called guess. Make guess lowercase.\n",
        "guess = input(\"Guess a letter:\").lower()\n",
        "#TODO-3 - Check if the letter the user guessed (guess) is one of the letters in the chosen_word.\n",
        "\n",
        "for word in word_list:\n",
        "  if chosen_word == word:\n",
        "    for i in range(0,len(chosen_word)-1):\n",
        "      if chosen_word[i] == guess:\n",
        "        print(\"Right\")\n",
        "      else:\n",
        "        print(\"Wrong\")\n",
        "  else:\n",
        "    print(\"Wrong\")"
      ]
    }
  ]
}