{
  "nbformat": 4,
  "nbformat_minor": 0,
  "metadata": {
    "colab": {
      "name": "Day 1 - Brand Name Generator.ipynb",
      "provenance": [],
      "authorship_tag": "ABX9TyMz6tCjCwBoCS7Ra1fJ8HcN",
      "include_colab_link": true
    },
    "kernelspec": {
      "name": "python3",
      "display_name": "Python 3"
    },
    "language_info": {
      "name": "python"
    }
  },
  "cells": [
    {
      "cell_type": "markdown",
      "metadata": {
        "id": "view-in-github",
        "colab_type": "text"
      },
      "source": [
        "<a href=\"https://colab.research.google.com/github/panpapap/100-days-of-code/blob/main/Day_1_Brand_Name_Generator.ipynb\" target=\"_parent\"><img src=\"https://colab.research.google.com/assets/colab-badge.svg\" alt=\"Open In Colab\"/></a>"
      ]
    },
    {
      "cell_type": "markdown",
      "source": [
        "A welcome message to the app!"
      ],
      "metadata": {
        "id": "mgDSyaL1q4Yi"
      }
    },
    {
      "cell_type": "code",
      "source": [
        "#A welcome message to the app!\n",
        "print(\"Welcome to the Brand Name Generator!\")\n",
        "#Input of the city name\n",
        "city = input(\"What's the name of the city you grew up in?\\n\")\n",
        "#Input of the pet's name\n",
        "pet = input(\"What's your pet's name?\\n\")\n",
        "#The generator\n",
        "print(\"Your brand name could be \"+ city + \" \"+ pet + \".\")\n"
      ],
      "metadata": {
        "colab": {
          "base_uri": "https://localhost:8080/"
        },
        "id": "k9bZ8vvlqCa3",
        "outputId": "326ec3a3-e2e2-4106-dd17-753d2dd4d654"
      },
      "execution_count": 1,
      "outputs": [
        {
          "output_type": "stream",
          "name": "stdout",
          "text": [
            "Welcome to the Brand Name Generator!\n",
            "What's the name of the city you grew up in?\n",
            "Hanoi\n",
            "What's your pet's name?\n",
            "Koco\n",
            "Your brand name could be Hanoi Koco.\n"
          ]
        }
      ]
    },
    {
      "cell_type": "markdown",
      "source": [
        ""
      ],
      "metadata": {
        "id": "PB7a-zfxgq_S"
      }
    }
  ]
}
