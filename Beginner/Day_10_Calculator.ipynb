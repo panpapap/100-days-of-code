{
  "nbformat": 4,
  "nbformat_minor": 0,
  "metadata": {
    "colab": {
      "name": "Day 10 -Calculator.ipynb",
      "provenance": [],
      "authorship_tag": "ABX9TyOl/HfAqBoGzqWZ41v6gJTU",
      "include_colab_link": true
    },
    "kernelspec": {
      "name": "python3",
      "display_name": "Python 3"
    },
    "language_info": {
      "name": "python"
    }
  },
  "cells": [
    {
      "cell_type": "markdown",
      "metadata": {
        "id": "view-in-github",
        "colab_type": "text"
      },
      "source": [
        "<a href=\"https://colab.research.google.com/github/panpapap/100-days-of-code/blob/main/Day_10_Calculator.ipynb\" target=\"_parent\"><img src=\"https://colab.research.google.com/assets/colab-badge.svg\" alt=\"Open In Colab\"/></a>"
      ]
    },
    {
      "cell_type": "code",
      "execution_count": 35,
      "metadata": {
        "colab": {
          "base_uri": "https://localhost:8080/"
        },
        "id": "RC9zTI2Oi0hl",
        "outputId": "cb6f051a-cde4-406f-9dd9-6eaf0aa8eca6"
      },
      "outputs": [
        {
          "output_type": "stream",
          "name": "stdout",
          "text": [
            "\n",
            " _____________________\n",
            "|  _________________  |\n",
            "| | KimThu's     0. | |  .----------------.  .----------------.  .----------------.  .----------------. \n",
            "| |_________________| | | .--------------. || .--------------. || .--------------. || .--------------. |\n",
            "|  ___ ___ ___   ___  | | |     ______   | || |      __      | || |   _____      | || |     ______   | |\n",
            "| | 7 | 8 | 9 | | + | | | |   .' ___  |  | || |     /  \\     | || |  |_   _|     | || |   .' ___  |  | |\n",
            "| |___|___|___| |___| | | |  / .'   \\_|  | || |    / /\\ \\    | || |    | |       | || |  / .'   \\_|  | |\n",
            "| | 4 | 5 | 6 | | - | | | |  | |         | || |   / ____ \\   | || |    | |   _   | || |  | |         | |\n",
            "| |___|___|___| |___| | | |  \\ `.___.'\\  | || | _/ /    \\ \\_ | || |   _| |__/ |  | || |  \\ `.___.'\\  | |\n",
            "| | 1 | 2 | 3 | | x | | | |   `._____.'  | || ||____|  |____|| || |  |________|  | || |   `._____.'  | |\n",
            "| |___|___|___| |___| | | |              | || |              | || |              | || |              | |\n",
            "| | . | 0 | = | | / | | | '--------------' || '--------------' || '--------------' || '--------------' |\n",
            "| |___|___|___| |___| |  '----------------'  '----------------'  '----------------'  '----------------' \n",
            "|_____________________|\n",
            "\n"
          ]
        }
      ],
      "source": [
        "logo = \"\"\"\n",
        " _____________________\n",
        "|  _________________  |\n",
        "| | KimThu's     0. | |  .----------------.  .----------------.  .----------------.  .----------------. \n",
        "| |_________________| | | .--------------. || .--------------. || .--------------. || .--------------. |\n",
        "|  ___ ___ ___   ___  | | |     ______   | || |      __      | || |   _____      | || |     ______   | |\n",
        "| | 7 | 8 | 9 | | + | | | |   .' ___  |  | || |     /  \\     | || |  |_   _|     | || |   .' ___  |  | |\n",
        "| |___|___|___| |___| | | |  / .'   \\_|  | || |    / /\\ \\    | || |    | |       | || |  / .'   \\_|  | |\n",
        "| | 4 | 5 | 6 | | - | | | |  | |         | || |   / ____ \\   | || |    | |   _   | || |  | |         | |\n",
        "| |___|___|___| |___| | | |  \\ `.___.'\\  | || | _/ /    \\ \\_ | || |   _| |__/ |  | || |  \\ `.___.'\\  | |\n",
        "| | 1 | 2 | 3 | | x | | | |   `._____.'  | || ||____|  |____|| || |  |________|  | || |   `._____.'  | |\n",
        "| |___|___|___| |___| | | |              | || |              | || |              | || |              | |\n",
        "| | . | 0 | = | | / | | | '--------------' || '--------------' || '--------------' || '--------------' |\n",
        "| |___|___|___| |___| |  '----------------'  '----------------'  '----------------'  '----------------' \n",
        "|_____________________|\n",
        "\"\"\"\n",
        "print(logo)"
      ]
    },
    {
      "cell_type": "code",
      "source": [
        "#Build the add function\n",
        "def add(n1,n2):\n",
        "  return n1 + n2\n",
        "#Build the subtract function\n",
        "def subtract(n1,n2):\n",
        "  return n1 - n2\n",
        "#Build the multiply function\n",
        "def multiply(n1,n2):\n",
        "  return n1 * n2\n",
        "#Build the divide function\n",
        "def divide(n1,n2):\n",
        "  return n1 / n2"
      ],
      "metadata": {
        "id": "Htt1R8jcj6th"
      },
      "execution_count": 36,
      "outputs": []
    },
    {
      "cell_type": "code",
      "source": [
        "#Build a dictionary of the calculator functions with keys: operations and values: functions\n",
        "operations = {\n",
        "\"+\": add,\n",
        "\"-\": subtract,\n",
        "\"*\": multiply,\n",
        "\"/\": divide\n",
        "}\n"
      ],
      "metadata": {
        "id": "M8lg2ETokfVJ"
      },
      "execution_count": 37,
      "outputs": []
    },
    {
      "cell_type": "code",
      "source": [
        "def calculation():\n",
        "  want_continue = True\n",
        "\n",
        "  #Ask the first number\n",
        "  num1 = float(input(\"What's the first number?: \"))\n",
        "  for o in operations:\n",
        "    print(o)\n",
        "    \n",
        "  #The loop to keep calculate\n",
        "  while want_continue == True:\n",
        "    #Ask the user to choose 1 operation\n",
        "    operation = input(\"Pick an operation: \")\n",
        "\n",
        "    #Ask for the next number\n",
        "    num2 = float(input(\"What's the next number?: \"))\n",
        "\n",
        "    #The actual calculator\n",
        "    cal_function = operations[operation]\n",
        "    answer = cal_function(num1,num2)\n",
        "\n",
        "    #Print out the result\n",
        "    print(f\"{num1} {operation} {num2} = {answer}\")\n",
        "\n",
        "    #Ask the user if they want to continue using the calculator\n",
        "    cont = input(f\"Type 'y' to continue calculating with {answer}, or type 'n' to start a new calculation:\")\n",
        "    if cont == \"n\":\n",
        "      calculation()\n",
        "    elif cont == \"y\":\n",
        "      num1 = answer\n",
        "  \n"
      ],
      "metadata": {
        "id": "igNsIB8bqvSs"
      },
      "execution_count": 46,
      "outputs": []
    },
    {
      "cell_type": "code",
      "source": [
        "calculation()"
      ],
      "metadata": {
        "colab": {
          "base_uri": "https://localhost:8080/"
        },
        "id": "4GFsNm5SttM4",
        "outputId": "abb1dd55-325f-4973-bea2-d1a46152cdf9"
      },
      "execution_count": null,
      "outputs": [
        {
          "name": "stdout",
          "output_type": "stream",
          "text": [
            "What's the first number?: 23\n",
            "+\n",
            "-\n",
            "*\n",
            "/\n",
            "Pick an operation: +\n",
            "What's the next number?: 43\n",
            "23.0 + 43.0 = 66.0\n",
            "Type 'y' to continue calculating with 66.0, or type 'n' to start a new calculation:\n",
            "Pick an operation: /\n",
            "What's the next number?: 3.2\n",
            "23.0 / 3.2 = 7.1875\n",
            "Type 'y' to continue calculating with 7.1875, or type 'n' to start a new calculation:n\n"
          ]
        }
      ]
    }
  ]
}
