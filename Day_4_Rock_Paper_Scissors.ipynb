{
  "nbformat": 4,
  "nbformat_minor": 0,
  "metadata": {
    "colab": {
      "name": "Day 4 - Rock Paper Scissors.ipynb",
      "provenance": [],
      "authorship_tag": "ABX9TyNVbLwd7O2dfeBN/HnAIDMG",
      "include_colab_link": true
    },
    "kernelspec": {
      "name": "python3",
      "display_name": "Python 3"
    },
    "language_info": {
      "name": "python"
    }
  },
  "cells": [
    {
      "cell_type": "markdown",
      "metadata": {
        "id": "view-in-github",
        "colab_type": "text"
      },
      "source": [
        "<a href=\"https://colab.research.google.com/github/panpapap/100-days-of-code/blob/main/Day_4_Rock_Paper_Scissors.ipynb\" target=\"_parent\"><img src=\"https://colab.research.google.com/assets/colab-badge.svg\" alt=\"Open In Colab\"/></a>"
      ]
    },
    {
      "cell_type": "code",
      "execution_count": 6,
      "metadata": {
        "colab": {
          "base_uri": "https://localhost:8080/"
        },
        "id": "MRWwlvPkFjcz",
        "outputId": "ccd28c48-fe04-4f21-ffa4-93f49c4fbf34"
      },
      "outputs": [
        {
          "output_type": "stream",
          "name": "stdout",
          "text": [
            "Welcome to the Rock Paper Scissors Championship \n",
            "Your rival is... the Computer!\n",
            "Now show us your choice! Type 1 for \"Rock\", 2 for \"Paper\" or 3 for \"Scissors\"?2\n",
            "Your choice is:\n",
            "\n",
            "    _______\n",
            "---'   ____)____\n",
            "          ______)\n",
            "          _______)\n",
            "         _______)\n",
            "---.__________)\n",
            "\n",
            "Computer choose:\n",
            "\n",
            "    _______\n",
            "---'   ____)\n",
            "      (_____)\n",
            "      (_____)\n",
            "      (____)\n",
            "---.__(___)\n",
            "\n",
            "And the winner is...\n",
            "You win!\n"
          ]
        }
      ],
      "source": [
        "import random\n",
        "\n",
        "rock = '''\n",
        "    _______\n",
        "---'   ____)\n",
        "      (_____)\n",
        "      (_____)\n",
        "      (____)\n",
        "---.__(___)\n",
        "'''\n",
        "\n",
        "paper = '''\n",
        "    _______\n",
        "---'   ____)____\n",
        "          ______)\n",
        "          _______)\n",
        "         _______)\n",
        "---.__________)\n",
        "'''\n",
        "\n",
        "scissors = '''\n",
        "    _______\n",
        "---'   ____)____\n",
        "          ______)\n",
        "       __________)\n",
        "      (____)\n",
        "---.__(___)\n",
        "'''\n",
        "\n",
        "print(\"Welcome to the Rock Paper Scissors Championship \\nYour rival is... the Computer!\")\n",
        "choice = int(input('Now show us your choice! Type 1 for \"Rock\", 2 for \"Paper\" or 3 for \"Scissors\"?'))\n",
        "\n",
        "if choice == 1:\n",
        "  print(f\"Your choice is:\\n{rock}\")\n",
        "elif choice == 2:\n",
        "  print(f\"Your choice is:\\n{paper}\")\n",
        "else:\n",
        "  print(f\"Your choice is:\\n{scissors}\")\n",
        "\n",
        "#It is time for the computer to make its decision\n",
        "computer = random.randint(1,3)\n",
        "if computer == 1:\n",
        "  print(f\"Computer choose:\\n{rock}\")\n",
        "elif computer == 2:\n",
        "  print(f\"Computer choose:\\n{paper}\")\n",
        "else:\n",
        "  print(f\"Computer choose:\\n{scissors}\")\n",
        "\n",
        "#How we will determine the winner\n",
        "print(\"And the winner is...\")\n",
        "if choice == computer:\n",
        "  print(\"It's a tight!.\")\n",
        "elif choice - 1 == computer:\n",
        "  print(\"You win!\")\n",
        "else:\n",
        "  print(\"You loose :(\")\n",
        "\n"
      ]
    }
  ]
}