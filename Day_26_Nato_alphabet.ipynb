{
  "nbformat": 4,
  "nbformat_minor": 0,
  "metadata": {
    "colab": {
      "name": "Day 26 - Nato alphabet.ipynb",
      "provenance": [],
      "authorship_tag": "ABX9TyO7hgqLmKunKh8VV1AhPzkw",
      "include_colab_link": true
    },
    "kernelspec": {
      "name": "python3",
      "display_name": "Python 3"
    },
    "language_info": {
      "name": "python"
    }
  },
  "cells": [
    {
      "cell_type": "markdown",
      "metadata": {
        "id": "view-in-github",
        "colab_type": "text"
      },
      "source": [
        "<a href=\"https://colab.research.google.com/github/panpapap/100-days-of-code/blob/main/Day_26_Nato_alphabet.ipynb\" target=\"_parent\"><img src=\"https://colab.research.google.com/assets/colab-badge.svg\" alt=\"Open In Colab\"/></a>"
      ]
    },
    {
      "cell_type": "code",
      "execution_count": 19,
      "metadata": {
        "id": "v34xJAbTpWZ2",
        "colab": {
          "base_uri": "https://localhost:8080/"
        },
        "outputId": "cc99175a-be70-4f05-d7de-0bbe09a139ca"
      },
      "outputs": [
        {
          "output_type": "stream",
          "name": "stdout",
          "text": [
            "Enter a word: Thu2\n",
            "Sorry, only letters in the alphabet please.\n",
            "Enter a word: Thu\n",
            "['Tango', 'Hotel', 'Uniform']\n"
          ]
        }
      ],
      "source": [
        "import pandas\n",
        "\n",
        "data = pandas.read_csv(\"nato_phonetic_alphabet.csv\")\n",
        "\n",
        "phonetic_dict = {row.letter: row.code for (index, row) in data.iterrows()}\n",
        "#print(phonetic_dict)\n",
        "\n",
        "def generate_phonetic():\n",
        "    word = input(\"Enter a word: \").upper()\n",
        "    try:\n",
        "        output_list = [phonetic_dict[letter] for letter in word]\n",
        "    except KeyError:\n",
        "        print(\"Sorry, only letters in the alphabet please.\")\n",
        "        generate_phonetic()\n",
        "    else:\n",
        "        print(output_list)\n",
        "\n",
        "generate_phonetic()"
      ]
    }
  ]
}