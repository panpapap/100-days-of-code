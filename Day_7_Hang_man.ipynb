{
  "nbformat": 4,
  "nbformat_minor": 0,
  "metadata": {
    "colab": {
      "name": "Day 7 - Hang man.ipynb",
      "provenance": [],
      "authorship_tag": "ABX9TyOWYqUY+GfrC+xfDbarBMRk",
      "include_colab_link": true
    },
    "kernelspec": {
      "name": "python3",
      "display_name": "Python 3"
    },
    "language_info": {
      "name": "python"
    }
  },
  "cells": [
    {
      "cell_type": "markdown",
      "metadata": {
        "id": "view-in-github",
        "colab_type": "text"
      },
      "source": [
        "<a href=\"https://colab.research.google.com/github/panpapap/100-days-of-code/blob/main/Day_7_Hang_man.ipynb\" target=\"_parent\"><img src=\"https://colab.research.google.com/assets/colab-badge.svg\" alt=\"Open In Colab\"/></a>"
      ]
    },
    {
      "cell_type": "code",
      "execution_count": 2,
      "metadata": {
        "id": "5Jp-wQ9RSz8G",
        "outputId": "d05a7c3e-1cdd-41cc-9ac9-ffbf2bee5188",
        "colab": {
          "base_uri": "https://localhost:8080/"
        }
      },
      "outputs": [
        {
          "output_type": "stream",
          "name": "stdout",
          "text": [
            "Pssst, the solution is aardvark.\n",
            "Guess a letter: A\n",
            "['a', 'a', '_', '_', '_', 'a', '_', '_']\n"
          ]
        }
      ],
      "source": [
        "import random\n",
        "word_list = [\"aardvark\", \"baboon\", \"camel\"]\n",
        "chosen_word = random.choice(word_list)\n",
        "\n",
        "#Testing code\n",
        "print(f'Pssst, the solution is {chosen_word}.')\n",
        "\n",
        "#TODO-1: - Create an empty List called display.\n",
        "#For each letter in the chosen_word, add a \"_\" to 'display'.\n",
        "#So if the chosen_word was \"apple\", display should be [\"_\", \"_\", \"_\", \"_\", \"_\"] with 5 \"_\" representing each letter to guess.\n",
        "\n",
        "display = []\n",
        "for letter in chosen_word:\n",
        "  display += \"_\"\n",
        "guess = input(\"Guess a letter: \").lower()\n",
        "\n",
        "\n",
        "#TODO-2: - Loop through each position in the chosen_word;\n",
        "#If the letter at that position matches 'guess' then reveal that letter in the display at that position.\n",
        "#e.g. If the user guessed \"p\" and the chosen word was \"apple\", then display should be [\"_\", \"p\", \"p\", \"_\", \"_\"].\n",
        "length = 0\n",
        "for letter in chosen_word:\n",
        "    if letter == guess:\n",
        "        display[length] = guess\n",
        "    length +=1\n",
        "    \n",
        "#TODO-3: - Print 'display' and you should see the guessed letter in the correct position and every other letter replace with \"_\".\n",
        "print(display)\n",
        "#Hint - Don't worry about getting the user to guess the next letter. We'll tackle that in step 3."
      ]
    }
  ]
}