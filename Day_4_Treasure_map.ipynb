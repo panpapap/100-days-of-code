{
  "nbformat": 4,
  "nbformat_minor": 0,
  "metadata": {
    "colab": {
      "name": "Day 4 - Treasure map.ipynb",
      "provenance": [],
      "authorship_tag": "ABX9TyNvQ4YrYs3TS1QVFDGLqipK",
      "include_colab_link": true
    },
    "kernelspec": {
      "name": "python3",
      "display_name": "Python 3"
    },
    "language_info": {
      "name": "python"
    }
  },
  "cells": [
    {
      "cell_type": "markdown",
      "metadata": {
        "id": "view-in-github",
        "colab_type": "text"
      },
      "source": [
        "<a href=\"https://colab.research.google.com/github/panpapap/100-days-of-code/blob/main/Day_4_Treasure_map.ipynb\" target=\"_parent\"><img src=\"https://colab.research.google.com/assets/colab-badge.svg\" alt=\"Open In Colab\"/></a>"
      ]
    },
    {
      "cell_type": "code",
      "execution_count": null,
      "metadata": {
        "colab": {
          "base_uri": "https://localhost:8080/"
        },
        "id": "nUL0Vz1VBfag",
        "outputId": "858b98cf-b7be-4d4a-b54d-2c288146bae7"
      },
      "outputs": [
        {
          "output_type": "stream",
          "name": "stdout",
          "text": [
            "Here is how it all begins!\n",
            "['⬜️', '⬜️', '⬜️']\n",
            "['⬜️', '⬜️', '⬜️']\n",
            "['⬜️', '⬜️', '⬜️']\n",
            "Where do you want to put the treasure? 23\n",
            "['⬜️', '⬜️', '⬜️']\n",
            "['⬜️', '⬜️', '⬜️']\n",
            "['⬜️', '❌', '⬜️']\n"
          ]
        }
      ],
      "source": [
        "# 🚨 Here is how it all begins\n",
        "row1 = [\"⬜️\",\"⬜️\",\"⬜️\"]\n",
        "row2 = [\"⬜️\",\"⬜️\",\"⬜️\"]\n",
        "row3 = [\"⬜️\",\"⬜️\",\"⬜️\"]\n",
        "map = [row1, row2, row3]\n",
        "print(\"Here is how it all begins!\")\n",
        "print(f\"{row1}\\n{row2}\\n{row3}\")\n",
        "position = input(\"Where do you want to put the treasure? \")\n",
        "\n",
        "\n",
        "#The actual mechanism\n",
        "\n",
        "horizontal = int(position[0])\n",
        "vertical = int(position[1])  \n",
        "map[vertical-1][horizontal-1] = \"❌\"\n",
        "\n",
        "\n",
        "print(f\"{row1}\\n{row2}\\n{row3}\")"
      ]
    }
  ]
}