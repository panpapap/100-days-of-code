{
  "nbformat": 4,
  "nbformat_minor": 0,
  "metadata": {
    "colab": {
      "name": "Day 26 - Nato alphabet.ipynb",
      "provenance": [],
      "authorship_tag": "ABX9TyMkDj9papuId15f9GvLEuqV",
      "include_colab_link": true
    },
    "kernelspec": {
      "name": "python3",
      "display_name": "Python 3"
    },
    "language_info": {
      "name": "python"
    }
  },
  "cells": [
    {
      "cell_type": "markdown",
      "metadata": {
        "id": "view-in-github",
        "colab_type": "text"
      },
      "source": [
        "<a href=\"https://colab.research.google.com/github/panpapap/100-days-of-code/blob/main/Day_26_Nato_alphabet.ipynb\" target=\"_parent\"><img src=\"https://colab.research.google.com/assets/colab-badge.svg\" alt=\"Open In Colab\"/></a>"
      ]
    },
    {
      "cell_type": "code",
      "execution_count": 17,
      "metadata": {
        "id": "v34xJAbTpWZ2",
        "colab": {
          "base_uri": "https://localhost:8080/"
        },
        "outputId": "393008f1-b3a0-433d-ba01-a68935fdf5f3"
      },
      "outputs": [
        {
          "output_type": "stream",
          "name": "stdout",
          "text": [
            "Enter a word: Kim\n",
            "['Kilo', 'India', 'Mike']\n"
          ]
        }
      ],
      "source": [
        "import pandas as pd\n",
        "\n",
        "data = pd.read_csv(\"nato_phonetic_alphabet.csv\")\n",
        "\n",
        "\n",
        "#Create a dictionary in this format:\n",
        "#{\"A\": \"Alfa\", \"B\": \"Bravo\"}\n",
        "\n",
        "nato_alphabet = {row.letter : row.code for (index, row) in data.iterrows()}\n",
        "#print(nato_alphabet)\n",
        "\n",
        "#Create a list of the phonetic code words from a word that the user inputs.\n",
        "word = input(\"Enter a word: \").upper()\n",
        "output_list = [nato_alphabet[letter] for letter in word]\n",
        "print(output_list)"
      ]
    }
  ]
}