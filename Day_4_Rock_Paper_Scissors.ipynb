{
  "nbformat": 4,
  "nbformat_minor": 0,
  "metadata": {
    "colab": {
      "name": "Day 4 - Rock Paper Scissors.ipynb",
      "provenance": [],
      "authorship_tag": "ABX9TyPaU0khGTii7vSjQkzwnzrT",
      "include_colab_link": true
    },
    "kernelspec": {
      "name": "python3",
      "display_name": "Python 3"
    },
    "language_info": {
      "name": "python"
    }
  },
  "cells": [
    {
      "cell_type": "markdown",
      "metadata": {
        "id": "view-in-github",
        "colab_type": "text"
      },
      "source": [
        "<a href=\"https://colab.research.google.com/github/panpapap/100-days-of-code/blob/main/Day_4_Rock_Paper_Scissors.ipynb\" target=\"_parent\"><img src=\"https://colab.research.google.com/assets/colab-badge.svg\" alt=\"Open In Colab\"/></a>"
      ]
    },
    {
      "cell_type": "code",
      "execution_count": null,
      "metadata": {
        "colab": {
          "base_uri": "https://localhost:8080/"
        },
        "id": "MRWwlvPkFjcz",
        "outputId": "ccd28c48-fe04-4f21-ffa4-93f49c4fbf34"
      },
      "outputs": [
        {
          "output_type": "stream",
          "name": "stdout",
          "text": [
            "Welcome to the Rock Paper Scissors Championship \n",
            "Your rival is... the Computer!\n",
            "Now show us your choice! Type 1 for \"Rock\", 2 for \"Paper\" or 3 for \"Scissors\"?2\n",
            "Your choice is:\n",
            "\n",
            "    _______\n",
            "---'   ____)____\n",
            "          ______)\n",
            "          _______)\n",
            "         _______)\n",
            "---.__________)\n",
            "\n",
            "Computer choose:\n",
            "\n",
            "    _______\n",
            "---'   ____)\n",
            "      (_____)\n",
            "      (_____)\n",
            "      (____)\n",
            "---.__(___)\n",
            "\n",
            "And the winner is...\n",
            "You win!\n"
          ]
        }
      ],
      "source": [
        "import random\n",
        "\n",
        "rock = '''\n",
        "    _______\n",
        "---'   ____)\n",
        "      (_____)\n",
        "      (_____)\n",
        "      (____)\n",
        "---.__(___)\n",
        "'''\n",
        "\n",
        "paper = '''\n",
        "    _______\n",
        "---'   ____)____\n",
        "          ______)\n",
        "          _______)\n",
        "         _______)\n",
        "---.__________)\n",
        "'''\n",
        "\n",
        "scissors = '''\n",
        "    _______\n",
        "---'   ____)____\n",
        "          ______)\n",
        "       __________)\n",
        "      (____)\n",
        "---.__(___)\n",
        "'''\n",
        "game_images = [rock, paper, scissors]\n",
        "\n",
        "user_choice = int(input(\"What do you choose? Type 0 for Rock, 1 for Paper or 2 for Scissors.\\n\"))\n",
        "if user_choice >= 3 or user_choice < 0: \n",
        "    print(\"You typed an invalid number, you lose!\") \n",
        "else:\n",
        "    print(game_images[user_choice])\n",
        "\n",
        "    computer_choice = random.randint(0, 2)\n",
        "    print(\"Computer chose:\")\n",
        "    print(game_images[computer_choice])\n",
        "\n",
        "\n",
        "    if user_choice == 0 and computer_choice == 2:\n",
        "        print(\"You win!\")\n",
        "    elif computer_choice == 0 and user_choice == 2:\n",
        "        print(\"You lose\")\n",
        "    elif computer_choice > user_choice:\n",
        "        print(\"You lose\")\n",
        "    elif user_choice > computer_choice:\n",
        "        print(\"You win!\")\n",
        "    elif computer_choice == user_choice:\n",
        "        print(\"It's a draw\")"
      ]
    }
  ]
}