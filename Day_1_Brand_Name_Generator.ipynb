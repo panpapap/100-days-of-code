{
  "nbformat": 4,
  "nbformat_minor": 0,
  "metadata": {
    "colab": {
      "name": "Day 1 - Brand Name Generator.ipynb",
      "provenance": [],
      "authorship_tag": "ABX9TyPdEBqF2VK6dwoYR9JRVrsz",
      "include_colab_link": true
    },
    "kernelspec": {
      "name": "python3",
      "display_name": "Python 3"
    },
    "language_info": {
      "name": "python"
    }
  },
  "cells": [
    {
      "cell_type": "markdown",
      "metadata": {
        "id": "view-in-github",
        "colab_type": "text"
      },
      "source": [
        "<a href=\"https://colab.research.google.com/github/panpapap/100-days-of-code/blob/main/Day_1_Brand_Name_Generator.ipynb\" target=\"_parent\"><img src=\"https://colab.research.google.com/assets/colab-badge.svg\" alt=\"Open In Colab\"/></a>"
      ]
    },
    {
      "cell_type": "markdown",
      "source": [
        "A welcome message to the app!"
      ],
      "metadata": {
        "id": "mgDSyaL1q4Yi"
      }
    },
    {
      "cell_type": "code",
      "source": [
        "#A welcome message to the app!\n",
        "print(\"Welcome to the Brand Name Generator!\")\n",
        "#Input of the city name\n",
        "city = input(\"What's the name of the city you grew up in?\")\n",
        "#Input of the pet's name\n",
        "pet = input(\"What's your pet's name?\")\n",
        "#The generator\n",
        "print(\"Your brand name could be \"+ city + \" \"+ pet + \".\")\n"
      ],
      "metadata": {
        "colab": {
          "base_uri": "https://localhost:8080/"
        },
        "id": "k9bZ8vvlqCa3",
        "outputId": "3ad0741b-99cb-4944-a1e8-eefd08e4291d"
      },
      "execution_count": null,
      "outputs": [
        {
          "output_type": "stream",
          "name": "stdout",
          "text": [
            "Welcome to the Brand Name Generator!\n",
            "What's the name of the city you grew up in?Hanoi\n",
            "What's your pet's name?koco\n",
            "Your brand name could be Hanoi koco.\n"
          ]
        }
      ]
    }
  ]
}