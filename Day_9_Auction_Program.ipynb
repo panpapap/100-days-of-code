{
  "nbformat": 4,
  "nbformat_minor": 0,
  "metadata": {
    "colab": {
      "name": "Day 9 - Auction Program.ipynb",
      "provenance": [],
      "collapsed_sections": [],
      "authorship_tag": "ABX9TyP2RB2YlaNOpgQ3x/l91li5",
      "include_colab_link": true
    },
    "kernelspec": {
      "name": "python3",
      "display_name": "Python 3"
    },
    "language_info": {
      "name": "python"
    }
  },
  "cells": [
    {
      "cell_type": "markdown",
      "metadata": {
        "id": "view-in-github",
        "colab_type": "text"
      },
      "source": [
        "<a href=\"https://colab.research.google.com/github/panpapap/100-days-of-code/blob/main/Day_9_Auction_Program.ipynb\" target=\"_parent\"><img src=\"https://colab.research.google.com/assets/colab-badge.svg\" alt=\"Open In Colab\"/></a>"
      ]
    },
    {
      "cell_type": "code",
      "execution_count": 22,
      "metadata": {
        "colab": {
          "base_uri": "https://localhost:8080/"
        },
        "id": "mfng8bjlqzBd",
        "outputId": "383c71b1-7a3d-4cc4-a149-12b1cc1705f3"
      },
      "outputs": [
        {
          "output_type": "stream",
          "name": "stdout",
          "text": [
            "\n",
            "                         ___________\n",
            "                         \\         /\n",
            "                          )_______(\n",
            "                          |\"\"\"\"\"\"\"|_.-._,.---------.,_.-._\n",
            "                          |       | | |               | | ''-.\n",
            "                          |       |_| |_             _| |_..-'\n",
            "                          |_______| '-' `'---------'` '-'\n",
            "                          )\"\"\"\"\"\"\"(\n",
            "                         /_________\\\n",
            "                       .-------------.\n",
            "                      /_______________\\\n",
            "\n",
            "Welcome to the auction program.\n"
          ]
        }
      ],
      "source": [
        "#Welcome to the program\n",
        "logo = '''\n",
        "                         ___________\n",
        "                         \\         /\n",
        "                          )_______(\n",
        "                          |\"\"\"\"\"\"\"|_.-._,.---------.,_.-._\n",
        "                          |       | | |               | | ''-.\n",
        "                          |       |_| |_             _| |_..-'\n",
        "                          |_______| '-' `'---------'` '-'\n",
        "                          )\"\"\"\"\"\"\"(\n",
        "                         /_________\\\\\n",
        "                       .-------------.\n",
        "                      /_______________\\\\\n",
        "'''\n",
        "print(logo)\n",
        "print(\"Welcome to the auction program.\")"
      ]
    },
    {
      "cell_type": "code",
      "source": [
        "auction_dict = {}\n",
        "other_bidder = True"
      ],
      "metadata": {
        "id": "4RGnCmk6q2cb"
      },
      "execution_count": 23,
      "outputs": []
    },
    {
      "cell_type": "code",
      "source": [
        "# Create a function to check for the highest bid amount \n",
        "def find_highest_bidder(bidding_record):\n",
        "  highest_bid = 0\n",
        "  winner = \"\"\n",
        "  # bidding_record = {\"Angela\": 123, \"James\": 321}\n",
        "  for bidder in bidding_record:\n",
        "    bid_amount = bidding_record[bidder]\n",
        "    if bid_amount > highest_bid: \n",
        "      highest_bid = bid_amount\n",
        "      winner = bidder\n",
        "  print(f\"The winner is {winner} with a bid of ${highest_bid}\")"
      ],
      "metadata": {
        "id": "CywejlZHrk_i"
      },
      "execution_count": 24,
      "outputs": []
    },
    {
      "cell_type": "code",
      "source": [
        "# Loop to add the bidder name and bid amount to a dictionary\n",
        "while other_bidder == True:\n",
        "  name = input(\"What is your name?: \")\n",
        "  bid = int(input(\"What is your bid?: $\"))\n",
        "  auction_dict[name] = bid\n",
        "  #Check if there is any other bidder\n",
        "  should_continue = input(\"Are there any other bidders? Type 'Yes or 'No'.\\n\").lower()\n",
        "  if should_continue == \"yes\":\n",
        "    clear()\n",
        "  elif should_continue == \"no\":\n",
        "    other_bidder = False\n",
        "    find_highest_bidder(auction_dict)\n",
        "\n"
      ],
      "metadata": {
        "colab": {
          "base_uri": "https://localhost:8080/"
        },
        "id": "_XgpXAXX44lj",
        "outputId": "44f02b3a-ed27-4b94-c7f1-88dd20179120"
      },
      "execution_count": 25,
      "outputs": [
        {
          "output_type": "stream",
          "name": "stdout",
          "text": [
            "What is your name?: Kim Thu\n",
            "What is your bid?: $24\n",
            "Are there any other bidders? Type 'Yes or 'No'.\n",
            "Yes\n",
            "\u001b[H\u001b[2JWhat is your name?: Nguyen Ngoc\n",
            "What is your bid?: $54\n",
            "Are there any other bidders? Type 'Yes or 'No'.\n",
            "Yes\n",
            "\u001b[H\u001b[2JWhat is your name?: Thu Linh\n",
            "What is your bid?: $108\n",
            "Are there any other bidders? Type 'Yes or 'No'.\n",
            "No\n",
            "The winner is Thu Linh with a bid of $108\n"
          ]
        }
      ]
    }
  ]
}